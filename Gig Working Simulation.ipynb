{
 "cells": [
  {
   "cell_type": "code",
   "execution_count": 1,
   "metadata": {},
   "outputs": [],
   "source": [
    "import numpy as np\n",
    "import matplotlib.pyplot as plt\n",
    "from enum import Enum "
   ]
  },
  {
   "cell_type": "code",
   "execution_count": 2,
   "metadata": {},
   "outputs": [],
   "source": [
    "N = 10000\n",
    "n_day=1000\n",
    "n_jobs=100\n",
    "n_new = 30\n",
    "n_expert = 7\n",
    "n_experienced = 63\n",
    "coeffs = [0.5, 0.5, 0.5]\n",
    "alpha=0.1"
   ]
  },
  {
   "cell_type": "code",
   "execution_count": 3,
   "metadata": {},
   "outputs": [],
   "source": [
    "def sample(x, scores=None, n=1):\n",
    "    if scores is None:\n",
    "        scores = np.ones_like(x, dtype=np.float)\n",
    "    probs = np.exp(scores - np.max(scores)) / np.sum(np.exp(scores - np.max(scores)))\n",
    "    return np.random.choice(x, size=n, p=probs).tolist()"
   ]
  },
  {
   "cell_type": "code",
   "execution_count": 4,
   "metadata": {},
   "outputs": [],
   "source": [
    "# Setting default feature vectors for categories classes of workers\n",
    "WorkerType = Enum('WorkerType', 'new experienced expert')\n",
    "class GigWorker:\n",
    "    def __init__(self, category=WorkerType.new, idx=0):\n",
    "        self.category = category\n",
    "        self.idx = idx\n",
    "        if category == WorkerType.new:\n",
    "            self.true_skill = np.random.uniform()\n",
    "            self.effort = 0.25 + 0.5 * np.random.uniform()\n",
    "            self.algo_score = 0.5\n",
    "        elif category == WorkerType.expert:\n",
    "            self.true_skill = 0.9 + 0.1 * np.random.uniform()\n",
    "            self.effort = 0.9 + 0.1 * np.random.uniform()\n",
    "            self.algo_score = 0.9 + 0.1 * np.random.uniform()\n",
    "        elif category == WorkerType.experienced:\n",
    "            self.true_skill = 0.9 * np.random.uniform()\n",
    "            self.effort = 0.9 * np.random.uniform()\n",
    "            self.algo_score = 0.9 * np.random.uniform()\n",
    "    def act(self):\n",
    "        pass"
   ]
  },
  {
   "cell_type": "code",
   "execution_count": 5,
   "metadata": {},
   "outputs": [],
   "source": [
    "lb = 0\n",
    "new_workers = [GigWorker(WorkerType.new, i) for i in range(int(N * 0.16))]\n",
    "lb += int(N * 0.16)\n",
    "experienced_workers = [GigWorker(WorkerType.experienced, i) for i in range(lb, lb+int(N * 0.84 * 0.9))]\n",
    "lb += int(N * 0.84 * 0.9)\n",
    "expert_workers = [GigWorker(WorkerType.expert, i) for i in range(lb, lb+int(N * 0.84 * 0.1))]"
   ]
  },
  {
   "cell_type": "code",
   "execution_count": 6,
   "metadata": {},
   "outputs": [],
   "source": [
    "def get_days_workers(new_workers, experienced_workers, expert_workers, n_day=n_day):\n",
    "    prop = n_day / N\n",
    "    s1 = sample(new_workers, n=int(prop * len(new_workers)))\n",
    "    s2 = sample(experienced_workers, n=int(prop * len(experienced_workers)))\n",
    "    s3 = sample(expert_workers, n=int(prop * len(expert_workers)))\n",
    "    return s1, s2, s3"
   ]
  },
  {
   "cell_type": "code",
   "execution_count": 7,
   "metadata": {},
   "outputs": [],
   "source": [
    "def select_worker(workers, coeffs):\n",
    "    features = np.array([[worker.true_skill * worker.algo_score,\n",
    "                         worker.true_skill,\n",
    "                         worker.algo_score] for worker in workers])\n",
    "    scores = features @ np.array(coeffs)\n",
    "    idx = sample(list(range(len(workers))), scores=scores.reshape(-1), n=1)[0]\n",
    "    return workers[idx], workers[:idx] + workers[(idx + 1):]"
   ]
  },
  {
   "cell_type": "code",
   "execution_count": 8,
   "metadata": {},
   "outputs": [],
   "source": [
    "def simulate_day(new_workers, experienced_workers, expert_workers, n_jobs=n_jobs):\n",
    "    s1, s2, s3 = get_days_workers(new_workers, experienced_workers, expert_workers)\n",
    "    drop_offs = []\n",
    "    for job in range(n_jobs):\n",
    "        s1_efforts = [worker.effort for worker in s1]\n",
    "        s2_efforts = [worker.effort for worker in s2]\n",
    "        s3_efforts = [worker.effort for worker in s3]\n",
    "        job_workers = sample(s1, s1_efforts, n=n_new) + sample(s2, s2_efforts, n=n_experienced) + sample(s3, s3_efforts, n=n_expert)\n",
    "        chosen, other = select_worker(job_workers, coeffs)\n",
    "        # Handle chosen\n",
    "        job_score = sample([1, 2, 3, 4, 5], scores=np.log([0.05, 0.05, 0.05, 0.05, 0.8]))[0]\n",
    "        chosen.algo_score = (1 - alpha) * chosen.algo_score + (alpha) * (job_score / 5)\n",
    "        chosen.effort *= 1.05\n",
    "        if chosen.category == WorkerType.new:\n",
    "            s1.remove(chosen)\n",
    "        elif chosen.category == WorkerType.experienced:\n",
    "            s2.remove(chosen)\n",
    "        elif chosen.category == WorkerType.expert:\n",
    "            s3.remove(chosen)\n",
    "        # Handle others\n",
    "        for worker in other:\n",
    "            if worker.category == WorkerType.new:\n",
    "                if np.random.rand() > 0.85:\n",
    "                    drop_offs.append(worker)\n",
    "                else:\n",
    "                    worker.effort *= 1.1\n",
    "            else: # experienced worker\n",
    "                if np.random.rand() > 0.01: #do nothing\n",
    "                    pass\n",
    "                else:\n",
    "                    worker.effort *= 1.1\n",
    "    for worker in set(drop_offs):\n",
    "        new_workers.remove(worker)\n",
    "        new_workers.append(GigWorker(WorkerType.new, idx=int(np.random.uniform() * 1000000)))"
   ]
  },
  {
   "cell_type": "code",
   "execution_count": 9,
   "metadata": {},
   "outputs": [],
   "source": [
    "avg_new_effort = []\n",
    "for day in range(14):\n",
    "    # print(\"day\", day + 1)\n",
    "    simulate_day(new_workers, experienced_workers, expert_workers)\n",
    "    avg_new_effort.append(np.mean([worker.effort for worker in new_workers]))"
   ]
  },
  {
   "cell_type": "code",
   "execution_count": 10,
   "metadata": {},
   "outputs": [
    {
     "data": {
      "text/plain": [
       "Text(0, 0.5, 'avg effort score of new person')"
      ]
     },
     "execution_count": 10,
     "metadata": {},
     "output_type": "execute_result"
    },
    {
     "data": {
      "image/png": "[encoded data removed]",
      "text/plain": [
       "<Figure size 432x288 with 1 Axes>"
      ]
     },
     "metadata": {
      "needs_background": "light"
     },
     "output_type": "display_data"
    }
   ],
   "source": [
    "plt.plot(avg_new_effort)\n",
    "plt.xlabel(\"days\")\n",
    "plt.ylabel(\"avg effort score of new person\")"
   ]
  },
  {
   "cell_type": "code",
   "execution_count": null,
   "metadata": {},
   "outputs": [],
   "source": []
  }
 ],
 "metadata": {
  "kernelspec": {
   "display_name": "Python 3",
   "language": "python",
   "name": "python3"
  },
  "language_info": {
   "codemirror_mode": {
    "name": "ipython",
    "version": 3
   },
   "file_extension": ".py",
   "mimetype": "text/x-python",
   "name": "python",
   "nbconvert_exporter": "python",
   "pygments_lexer": "ipython3",
   "version": "3.9.1"
  }
 },
 "nbformat": 4,
 "nbformat_minor": 5
}
